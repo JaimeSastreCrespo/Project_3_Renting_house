{
 "cells": [
  {
   "cell_type": "code",
   "execution_count": 484,
   "metadata": {},
   "outputs": [],
   "source": [
    "import pandas as pd\n",
    "import numpy as np\n",
    "from sklearn import preprocessing\n",
    "rent=pd.read_excel(r\"/Users/jaimesastrecrespo/DAFT_1022/Module_1/Project_Week_3_Data-Preparation/Project 10 -Spain renting.xlsx\")\n"
   ]
  },
  {
   "cell_type": "markdown",
   "metadata": {},
   "source": [
    "### Examine the data for potential issues (missing data, data inconsistency, outliers, duplicates etc) and cleaning.\n"
   ]
  },
  {
   "cell_type": "code",
   "execution_count": 485,
   "metadata": {},
   "outputs": [
    {
     "data": {
      "text/html": [
       "<div>\n",
       "<style scoped>\n",
       "    .dataframe tbody tr th:only-of-type {\n",
       "        vertical-align: middle;\n",
       "    }\n",
       "\n",
       "    .dataframe tbody tr th {\n",
       "        vertical-align: top;\n",
       "    }\n",
       "\n",
       "    .dataframe thead th {\n",
       "        text-align: right;\n",
       "    }\n",
       "</style>\n",
       "<table border=\"1\" class=\"dataframe\">\n",
       "  <thead>\n",
       "    <tr style=\"text-align: right;\">\n",
       "      <th></th>\n",
       "      <th>Column1</th>\n",
       "      <th>provincia</th>\n",
       "      <th>comunidad autonoma</th>\n",
       "      <th>titulo</th>\n",
       "      <th>precio</th>\n",
       "      <th>habitaciones</th>\n",
       "      <th>metros</th>\n",
       "      <th>total inmuebles/comunidad</th>\n",
       "    </tr>\n",
       "  </thead>\n",
       "  <tbody>\n",
       "    <tr>\n",
       "      <th>0</th>\n",
       "      <td>0</td>\n",
       "      <td>La Coruña</td>\n",
       "      <td>Galicia</td>\n",
       "      <td>NaN</td>\n",
       "      <td>NaN</td>\n",
       "      <td>NaN</td>\n",
       "      <td>NaN</td>\n",
       "      <td>1751</td>\n",
       "    </tr>\n",
       "    <tr>\n",
       "      <th>1</th>\n",
       "      <td>1</td>\n",
       "      <td>La Coruña</td>\n",
       "      <td>Galicia</td>\n",
       "      <td>Chalet pareado en A Zapateira, Culleredo</td>\n",
       "      <td>1100.0</td>\n",
       "      <td>4.0</td>\n",
       "      <td>243</td>\n",
       "      <td>1751</td>\n",
       "    </tr>\n",
       "    <tr>\n",
       "      <th>2</th>\n",
       "      <td>2</td>\n",
       "      <td>La Coruña</td>\n",
       "      <td>Galicia</td>\n",
       "      <td>Chalet pareado en Elviña - A Zapateira, A Coruña</td>\n",
       "      <td>1100.0</td>\n",
       "      <td>4.0</td>\n",
       "      <td>243</td>\n",
       "      <td>1751</td>\n",
       "    </tr>\n",
       "    <tr>\n",
       "      <th>3</th>\n",
       "      <td>3</td>\n",
       "      <td>La Coruña</td>\n",
       "      <td>Galicia</td>\n",
       "      <td>Ático en avenida Pasaxe, 35, Los Castros - Cas...</td>\n",
       "      <td>450.0</td>\n",
       "      <td>NaN</td>\n",
       "      <td>Planta 4ª exterior con ascen</td>\n",
       "      <td>1751</td>\n",
       "    </tr>\n",
       "    <tr>\n",
       "      <th>4</th>\n",
       "      <td>4</td>\n",
       "      <td>La Coruña</td>\n",
       "      <td>Galicia</td>\n",
       "      <td>Piso en calle de Fernando III o Santo, 9, Ensa...</td>\n",
       "      <td>1000.0</td>\n",
       "      <td>4.0</td>\n",
       "      <td>100</td>\n",
       "      <td>1751</td>\n",
       "    </tr>\n",
       "  </tbody>\n",
       "</table>\n",
       "</div>"
      ],
      "text/plain": [
       "   Column1  provincia comunidad autonoma  \\\n",
       "0        0  La Coruña            Galicia   \n",
       "1        1  La Coruña            Galicia   \n",
       "2        2  La Coruña            Galicia   \n",
       "3        3  La Coruña            Galicia   \n",
       "4        4  La Coruña            Galicia   \n",
       "\n",
       "                                              titulo  precio  habitaciones  \\\n",
       "0                                                NaN     NaN           NaN   \n",
       "1           Chalet pareado en A Zapateira, Culleredo  1100.0           4.0   \n",
       "2   Chalet pareado en Elviña - A Zapateira, A Coruña  1100.0           4.0   \n",
       "3  Ático en avenida Pasaxe, 35, Los Castros - Cas...   450.0           NaN   \n",
       "4  Piso en calle de Fernando III o Santo, 9, Ensa...  1000.0           4.0   \n",
       "\n",
       "                         metros  total inmuebles/comunidad  \n",
       "0                           NaN                       1751  \n",
       "1                           243                       1751  \n",
       "2                           243                       1751  \n",
       "3  Planta 4ª exterior con ascen                       1751  \n",
       "4                           100                       1751  "
      ]
     },
     "execution_count": 485,
     "metadata": {},
     "output_type": "execute_result"
    }
   ],
   "source": [
    "rent.head()"
   ]
  },
  {
   "cell_type": "code",
   "execution_count": 486,
   "metadata": {},
   "outputs": [
    {
     "data": {
      "text/plain": [
       "(79749, 8)"
      ]
     },
     "execution_count": 486,
     "metadata": {},
     "output_type": "execute_result"
    }
   ],
   "source": [
    "rent.shape"
   ]
  },
  {
   "cell_type": "code",
   "execution_count": 487,
   "metadata": {},
   "outputs": [
    {
     "name": "stdout",
     "output_type": "stream",
     "text": [
      "79749 Column1\n",
      "53 provincia\n",
      "20 comunidad autonoma\n",
      "36502 titulo\n",
      "834 precio\n",
      "24 habitaciones\n",
      "720 metros\n",
      "53 total inmuebles/comunidad\n"
     ]
    }
   ],
   "source": [
    "print(rent[\"Column1\"].nunique(),\"Column1\" )\n",
    "print(rent[\"provincia\"].nunique(), \"provincia\")\n",
    "print(rent[\"comunidad autonoma\"].nunique(),\"comunidad autonoma\")\n",
    "print(rent[\"titulo\"].nunique(),\"titulo\")\n",
    "print(rent[\"precio\"].nunique(),\"precio\")\n",
    "print(rent[\"habitaciones\"].nunique(),\"habitaciones\")\n",
    "print(rent[\"metros\"].nunique(),\"metros\")\n",
    "print(rent[\"total inmuebles/comunidad\"].nunique(),\"total inmuebles/comunidad\")"
   ]
  },
  {
   "cell_type": "code",
   "execution_count": 488,
   "metadata": {},
   "outputs": [
    {
     "data": {
      "text/plain": [
       "Column1                         0\n",
       "provincia                       2\n",
       "comunidad autonoma              7\n",
       "titulo                          8\n",
       "precio                          4\n",
       "habitaciones                 3707\n",
       "metros                         15\n",
       "total inmuebles/comunidad       0\n",
       "dtype: int64"
      ]
     },
     "execution_count": 488,
     "metadata": {},
     "output_type": "execute_result"
    }
   ],
   "source": [
    "# show null/NA values per column\n",
    "rent.isnull().sum()"
   ]
  },
  {
   "cell_type": "code",
   "execution_count": 489,
   "metadata": {},
   "outputs": [
    {
     "data": {
      "text/plain": [
       "0"
      ]
     },
     "execution_count": 489,
     "metadata": {},
     "output_type": "execute_result"
    }
   ],
   "source": [
    "#finding duplicates rows\n",
    "rent.duplicated().sum()"
   ]
  },
  {
   "cell_type": "code",
   "execution_count": 490,
   "metadata": {},
   "outputs": [
    {
     "name": "stdout",
     "output_type": "stream",
     "text": [
      "Int64Index([    0,  6435, 26136, 30775, 31019, 31043, 34376, 34377, 34391,\n",
      "            34392, 70341, 79703, 79704, 79709],\n",
      "           dtype='int64')\n"
     ]
    },
    {
     "data": {
      "text/plain": [
       "14"
      ]
     },
     "execution_count": 490,
     "metadata": {},
     "output_type": "execute_result"
    }
   ],
   "source": [
    "#Finding the rows with more than one NaN value\n",
    "rent_nan2 = rent.loc[rent.isnull().sum(1)>1].index\n",
    "print(rent_nan2)\n",
    "rent_nan2.value_counts().sum()"
   ]
  },
  {
   "cell_type": "code",
   "execution_count": 491,
   "metadata": {},
   "outputs": [],
   "source": [
    "#dropping the rows with more than one missing values\n",
    "rent2= rent.drop(rent_nan2)"
   ]
  },
  {
   "cell_type": "code",
   "execution_count": 492,
   "metadata": {},
   "outputs": [
    {
     "name": "stdout",
     "output_type": "stream",
     "text": [
      "       Column1 provincia comunidad autonoma  \\\n",
      "79726    79726  Zaragoza                NaN   \n",
      "79740    79740  Zaragoza                NaN   \n",
      "\n",
      "                                                  titulo  precio  \\\n",
      "79726  Piso en calle vicente monforte, 10, San José, ...   655.0   \n",
      "79740  Piso en calle Madre Sacramento, 1, Doctor Cerr...   700.0   \n",
      "\n",
      "       habitaciones metros  total inmuebles/comunidad  \n",
      "79726           2.0     60                       1277  \n",
      "79740           2.0     70                       1277  \n"
     ]
    }
   ],
   "source": [
    "print(rent2[rent2['comunidad autonoma'].isnull()])"
   ]
  },
  {
   "cell_type": "code",
   "execution_count": 493,
   "metadata": {},
   "outputs": [],
   "source": [
    "#replacing NaN values from comunidad autonoma by provincia\n",
    "rent2.loc[rent2['comunidad autonoma'].isnull(),'comunidad autonoma'] = rent2[\"provincia\"]\n"
   ]
  },
  {
   "cell_type": "code",
   "execution_count": 494,
   "metadata": {},
   "outputs": [
    {
     "data": {
      "text/plain": [
       "Column1                         0\n",
       "provincia                       1\n",
       "comunidad autonoma              0\n",
       "titulo                          0\n",
       "precio                          0\n",
       "habitaciones                 3696\n",
       "metros                          5\n",
       "total inmuebles/comunidad       0\n",
       "dtype: int64"
      ]
     },
     "execution_count": 494,
     "metadata": {},
     "output_type": "execute_result"
    }
   ],
   "source": [
    "# show null/NA values per column\n",
    "rent2.isnull().sum()"
   ]
  },
  {
   "cell_type": "code",
   "execution_count": 495,
   "metadata": {},
   "outputs": [
    {
     "data": {
      "text/html": [
       "<div>\n",
       "<style scoped>\n",
       "    .dataframe tbody tr th:only-of-type {\n",
       "        vertical-align: middle;\n",
       "    }\n",
       "\n",
       "    .dataframe tbody tr th {\n",
       "        vertical-align: top;\n",
       "    }\n",
       "\n",
       "    .dataframe thead th {\n",
       "        text-align: right;\n",
       "    }\n",
       "</style>\n",
       "<table border=\"1\" class=\"dataframe\">\n",
       "  <thead>\n",
       "    <tr style=\"text-align: right;\">\n",
       "      <th></th>\n",
       "      <th>Column1</th>\n",
       "      <th>provincia</th>\n",
       "      <th>comunidad autonoma</th>\n",
       "      <th>titulo</th>\n",
       "      <th>precio</th>\n",
       "      <th>habitaciones</th>\n",
       "      <th>metros</th>\n",
       "      <th>total inmuebles/comunidad</th>\n",
       "    </tr>\n",
       "  </thead>\n",
       "  <tbody>\n",
       "    <tr>\n",
       "      <th>1</th>\n",
       "      <td>1</td>\n",
       "      <td>La Coruña</td>\n",
       "      <td>Galicia</td>\n",
       "      <td>Chalet pareado en A Zapateira, Culleredo</td>\n",
       "      <td>1100.0</td>\n",
       "      <td>4.0</td>\n",
       "      <td>243</td>\n",
       "      <td>1751</td>\n",
       "    </tr>\n",
       "    <tr>\n",
       "      <th>2</th>\n",
       "      <td>2</td>\n",
       "      <td>La Coruña</td>\n",
       "      <td>Galicia</td>\n",
       "      <td>Chalet pareado en Elviña - A Zapateira, A Coruña</td>\n",
       "      <td>1100.0</td>\n",
       "      <td>4.0</td>\n",
       "      <td>243</td>\n",
       "      <td>1751</td>\n",
       "    </tr>\n",
       "    <tr>\n",
       "      <th>3</th>\n",
       "      <td>3</td>\n",
       "      <td>La Coruña</td>\n",
       "      <td>Galicia</td>\n",
       "      <td>Ático en avenida Pasaxe, 35, Los Castros - Cas...</td>\n",
       "      <td>450.0</td>\n",
       "      <td>NaN</td>\n",
       "      <td>Planta 4ª exterior con ascen</td>\n",
       "      <td>1751</td>\n",
       "    </tr>\n",
       "    <tr>\n",
       "      <th>4</th>\n",
       "      <td>4</td>\n",
       "      <td>La Coruña</td>\n",
       "      <td>Galicia</td>\n",
       "      <td>Piso en calle de Fernando III o Santo, 9, Ensa...</td>\n",
       "      <td>1000.0</td>\n",
       "      <td>4.0</td>\n",
       "      <td>100</td>\n",
       "      <td>1751</td>\n",
       "    </tr>\n",
       "    <tr>\n",
       "      <th>5</th>\n",
       "      <td>5</td>\n",
       "      <td>La Coruña</td>\n",
       "      <td>Galicia</td>\n",
       "      <td>Piso en calle Manuel Jesús Méndez Búa, s/n, Ca...</td>\n",
       "      <td>450.0</td>\n",
       "      <td>2.0</td>\n",
       "      <td>76</td>\n",
       "      <td>1751</td>\n",
       "    </tr>\n",
       "  </tbody>\n",
       "</table>\n",
       "</div>"
      ],
      "text/plain": [
       "   Column1  provincia comunidad autonoma  \\\n",
       "1        1  La Coruña            Galicia   \n",
       "2        2  La Coruña            Galicia   \n",
       "3        3  La Coruña            Galicia   \n",
       "4        4  La Coruña            Galicia   \n",
       "5        5  La Coruña            Galicia   \n",
       "\n",
       "                                              titulo  precio  habitaciones  \\\n",
       "1           Chalet pareado en A Zapateira, Culleredo  1100.0           4.0   \n",
       "2   Chalet pareado en Elviña - A Zapateira, A Coruña  1100.0           4.0   \n",
       "3  Ático en avenida Pasaxe, 35, Los Castros - Cas...   450.0           NaN   \n",
       "4  Piso en calle de Fernando III o Santo, 9, Ensa...  1000.0           4.0   \n",
       "5  Piso en calle Manuel Jesús Méndez Búa, s/n, Ca...   450.0           2.0   \n",
       "\n",
       "                         metros  total inmuebles/comunidad  \n",
       "1                           243                       1751  \n",
       "2                           243                       1751  \n",
       "3  Planta 4ª exterior con ascen                       1751  \n",
       "4                           100                       1751  \n",
       "5                            76                       1751  "
      ]
     },
     "execution_count": 495,
     "metadata": {},
     "output_type": "execute_result"
    }
   ],
   "source": [
    "rent2.head()"
   ]
  },
  {
   "cell_type": "code",
   "execution_count": 496,
   "metadata": {},
   "outputs": [
    {
     "data": {
      "text/plain": [
       "1                      Culleredo\n",
       "2                       A Coruña\n",
       "3                       A Coruña\n",
       "4         Santiago de Compostela\n",
       "5                         Carral\n",
       "                  ...           \n",
       "79744                   Zaragoza\n",
       "79745                   Zaragoza\n",
       "79746                   Zaragoza\n",
       "79747                   Zaragoza\n",
       "79748                   Zaragoza\n",
       "Name: ciudad, Length: 79735, dtype: object"
      ]
     },
     "execution_count": 496,
     "metadata": {},
     "output_type": "execute_result"
    }
   ],
   "source": [
    "rent2['ciudad'] = rent2['titulo'].str.split(',').str[-1]\n",
    "rent2['ciudad']"
   ]
  },
  {
   "cell_type": "code",
   "execution_count": 497,
   "metadata": {},
   "outputs": [
    {
     "data": {
      "text/html": [
       "<div>\n",
       "<style scoped>\n",
       "    .dataframe tbody tr th:only-of-type {\n",
       "        vertical-align: middle;\n",
       "    }\n",
       "\n",
       "    .dataframe tbody tr th {\n",
       "        vertical-align: top;\n",
       "    }\n",
       "\n",
       "    .dataframe thead th {\n",
       "        text-align: right;\n",
       "    }\n",
       "</style>\n",
       "<table border=\"1\" class=\"dataframe\">\n",
       "  <thead>\n",
       "    <tr style=\"text-align: right;\">\n",
       "      <th></th>\n",
       "      <th>Column1</th>\n",
       "      <th>provincia</th>\n",
       "      <th>comunidad autonoma</th>\n",
       "      <th>titulo</th>\n",
       "      <th>precio</th>\n",
       "      <th>habitaciones</th>\n",
       "      <th>metros</th>\n",
       "      <th>total inmuebles/comunidad</th>\n",
       "      <th>ciudad</th>\n",
       "    </tr>\n",
       "  </thead>\n",
       "  <tbody>\n",
       "    <tr>\n",
       "      <th>1</th>\n",
       "      <td>1</td>\n",
       "      <td>La Coruña</td>\n",
       "      <td>Galicia</td>\n",
       "      <td>Chalet pareado en A Zapateira, Culleredo</td>\n",
       "      <td>1100.0</td>\n",
       "      <td>4.0</td>\n",
       "      <td>243</td>\n",
       "      <td>1751</td>\n",
       "      <td>Culleredo</td>\n",
       "    </tr>\n",
       "    <tr>\n",
       "      <th>2</th>\n",
       "      <td>2</td>\n",
       "      <td>La Coruña</td>\n",
       "      <td>Galicia</td>\n",
       "      <td>Chalet pareado en Elviña - A Zapateira, A Coruña</td>\n",
       "      <td>1100.0</td>\n",
       "      <td>4.0</td>\n",
       "      <td>243</td>\n",
       "      <td>1751</td>\n",
       "      <td>A Coruña</td>\n",
       "    </tr>\n",
       "    <tr>\n",
       "      <th>3</th>\n",
       "      <td>3</td>\n",
       "      <td>La Coruña</td>\n",
       "      <td>Galicia</td>\n",
       "      <td>Ático en avenida Pasaxe, 35, Los Castros - Cas...</td>\n",
       "      <td>450.0</td>\n",
       "      <td>NaN</td>\n",
       "      <td>Planta 4ª exterior con ascen</td>\n",
       "      <td>1751</td>\n",
       "      <td>A Coruña</td>\n",
       "    </tr>\n",
       "    <tr>\n",
       "      <th>4</th>\n",
       "      <td>4</td>\n",
       "      <td>La Coruña</td>\n",
       "      <td>Galicia</td>\n",
       "      <td>Piso en calle de Fernando III o Santo, 9, Ensa...</td>\n",
       "      <td>1000.0</td>\n",
       "      <td>4.0</td>\n",
       "      <td>100</td>\n",
       "      <td>1751</td>\n",
       "      <td>Santiago de Compostela</td>\n",
       "    </tr>\n",
       "    <tr>\n",
       "      <th>5</th>\n",
       "      <td>5</td>\n",
       "      <td>La Coruña</td>\n",
       "      <td>Galicia</td>\n",
       "      <td>Piso en calle Manuel Jesús Méndez Búa, s/n, Ca...</td>\n",
       "      <td>450.0</td>\n",
       "      <td>2.0</td>\n",
       "      <td>76</td>\n",
       "      <td>1751</td>\n",
       "      <td>Carral</td>\n",
       "    </tr>\n",
       "  </tbody>\n",
       "</table>\n",
       "</div>"
      ],
      "text/plain": [
       "   Column1  provincia comunidad autonoma  \\\n",
       "1        1  La Coruña            Galicia   \n",
       "2        2  La Coruña            Galicia   \n",
       "3        3  La Coruña            Galicia   \n",
       "4        4  La Coruña            Galicia   \n",
       "5        5  La Coruña            Galicia   \n",
       "\n",
       "                                              titulo  precio  habitaciones  \\\n",
       "1           Chalet pareado en A Zapateira, Culleredo  1100.0           4.0   \n",
       "2   Chalet pareado en Elviña - A Zapateira, A Coruña  1100.0           4.0   \n",
       "3  Ático en avenida Pasaxe, 35, Los Castros - Cas...   450.0           NaN   \n",
       "4  Piso en calle de Fernando III o Santo, 9, Ensa...  1000.0           4.0   \n",
       "5  Piso en calle Manuel Jesús Méndez Búa, s/n, Ca...   450.0           2.0   \n",
       "\n",
       "                         metros  total inmuebles/comunidad  \\\n",
       "1                           243                       1751   \n",
       "2                           243                       1751   \n",
       "3  Planta 4ª exterior con ascen                       1751   \n",
       "4                           100                       1751   \n",
       "5                            76                       1751   \n",
       "\n",
       "                    ciudad  \n",
       "1                Culleredo  \n",
       "2                 A Coruña  \n",
       "3                 A Coruña  \n",
       "4   Santiago de Compostela  \n",
       "5                   Carral  "
      ]
     },
     "execution_count": 497,
     "metadata": {},
     "output_type": "execute_result"
    }
   ],
   "source": [
    "rent2.head()"
   ]
  },
  {
   "cell_type": "code",
   "execution_count": 498,
   "metadata": {},
   "outputs": [
    {
     "name": "stdout",
     "output_type": "stream",
     "text": [
      "       Column1 provincia comunidad autonoma  \\\n",
      "79743    79743       NaN             Aragon   \n",
      "\n",
      "                                                  titulo  precio  \\\n",
      "79743  Piso en calle santa teresa de jesus, 2, Univer...   750.0   \n",
      "\n",
      "       habitaciones metros  total inmuebles/comunidad     ciudad  \n",
      "79743           3.0     90                       1277   Zaragoza  \n"
     ]
    }
   ],
   "source": [
    "print(rent2[rent2['provincia'].isnull()])"
   ]
  },
  {
   "cell_type": "code",
   "execution_count": 499,
   "metadata": {},
   "outputs": [
    {
     "name": "stdout",
     "output_type": "stream",
     "text": [
      "Column1                                                                  79743\n",
      "provincia                                                                  NaN\n",
      "comunidad autonoma                                                      Aragon\n",
      "titulo                       Piso en calle santa teresa de jesus, 2, Univer...\n",
      "precio                                                                   750.0\n",
      "habitaciones                                                               3.0\n",
      "metros                                                                      90\n",
      "total inmuebles/comunidad                                                 1277\n",
      "ciudad                                                                Zaragoza\n",
      "Name: 79743, dtype: object\n"
     ]
    }
   ],
   "source": [
    "print(rent2.loc[79743])"
   ]
  },
  {
   "cell_type": "code",
   "execution_count": 500,
   "metadata": {},
   "outputs": [],
   "source": [
    "#replacing NaN values from provincia by comunidad autonoma\n",
    "rent2.loc[rent2['provincia'].isnull(),'provincia'] = rent2[\"ciudad\"]"
   ]
  },
  {
   "cell_type": "code",
   "execution_count": 501,
   "metadata": {},
   "outputs": [
    {
     "name": "stdout",
     "output_type": "stream",
     "text": [
      "Column1                                                                  79743\n",
      "provincia                                                             Zaragoza\n",
      "comunidad autonoma                                                      Aragon\n",
      "titulo                       Piso en calle santa teresa de jesus, 2, Univer...\n",
      "precio                                                                   750.0\n",
      "habitaciones                                                               3.0\n",
      "metros                                                                      90\n",
      "total inmuebles/comunidad                                                 1277\n",
      "ciudad                                                                Zaragoza\n",
      "Name: 79743, dtype: object\n"
     ]
    }
   ],
   "source": [
    "print(rent2.loc[79743])"
   ]
  },
  {
   "cell_type": "code",
   "execution_count": 502,
   "metadata": {},
   "outputs": [
    {
     "data": {
      "text/html": [
       "<div>\n",
       "<style scoped>\n",
       "    .dataframe tbody tr th:only-of-type {\n",
       "        vertical-align: middle;\n",
       "    }\n",
       "\n",
       "    .dataframe tbody tr th {\n",
       "        vertical-align: top;\n",
       "    }\n",
       "\n",
       "    .dataframe thead th {\n",
       "        text-align: right;\n",
       "    }\n",
       "</style>\n",
       "<table border=\"1\" class=\"dataframe\">\n",
       "  <thead>\n",
       "    <tr style=\"text-align: right;\">\n",
       "      <th></th>\n",
       "      <th>Column1</th>\n",
       "      <th>provincia</th>\n",
       "      <th>comunidad autonoma</th>\n",
       "      <th>titulo</th>\n",
       "      <th>precio</th>\n",
       "      <th>habitaciones</th>\n",
       "      <th>metros</th>\n",
       "      <th>total inmuebles/comunidad</th>\n",
       "      <th>ciudad</th>\n",
       "    </tr>\n",
       "  </thead>\n",
       "  <tbody>\n",
       "    <tr>\n",
       "      <th>1</th>\n",
       "      <td>1</td>\n",
       "      <td>La Coruña</td>\n",
       "      <td>Galicia</td>\n",
       "      <td>Chalet pareado en A Zapateira, Culleredo</td>\n",
       "      <td>1100.0</td>\n",
       "      <td>4.0</td>\n",
       "      <td>243</td>\n",
       "      <td>1751</td>\n",
       "      <td>Culleredo</td>\n",
       "    </tr>\n",
       "    <tr>\n",
       "      <th>2</th>\n",
       "      <td>2</td>\n",
       "      <td>La Coruña</td>\n",
       "      <td>Galicia</td>\n",
       "      <td>Chalet pareado en Elviña - A Zapateira, A Coruña</td>\n",
       "      <td>1100.0</td>\n",
       "      <td>4.0</td>\n",
       "      <td>243</td>\n",
       "      <td>1751</td>\n",
       "      <td>A Coruña</td>\n",
       "    </tr>\n",
       "    <tr>\n",
       "      <th>3</th>\n",
       "      <td>3</td>\n",
       "      <td>La Coruña</td>\n",
       "      <td>Galicia</td>\n",
       "      <td>Ático en avenida Pasaxe, 35, Los Castros - Cas...</td>\n",
       "      <td>450.0</td>\n",
       "      <td>NaN</td>\n",
       "      <td>Planta 4ª exterior con ascen</td>\n",
       "      <td>1751</td>\n",
       "      <td>A Coruña</td>\n",
       "    </tr>\n",
       "    <tr>\n",
       "      <th>4</th>\n",
       "      <td>4</td>\n",
       "      <td>La Coruña</td>\n",
       "      <td>Galicia</td>\n",
       "      <td>Piso en calle de Fernando III o Santo, 9, Ensa...</td>\n",
       "      <td>1000.0</td>\n",
       "      <td>4.0</td>\n",
       "      <td>100</td>\n",
       "      <td>1751</td>\n",
       "      <td>Santiago de Compostela</td>\n",
       "    </tr>\n",
       "    <tr>\n",
       "      <th>5</th>\n",
       "      <td>5</td>\n",
       "      <td>La Coruña</td>\n",
       "      <td>Galicia</td>\n",
       "      <td>Piso en calle Manuel Jesús Méndez Búa, s/n, Ca...</td>\n",
       "      <td>450.0</td>\n",
       "      <td>2.0</td>\n",
       "      <td>76</td>\n",
       "      <td>1751</td>\n",
       "      <td>Carral</td>\n",
       "    </tr>\n",
       "  </tbody>\n",
       "</table>\n",
       "</div>"
      ],
      "text/plain": [
       "   Column1  provincia comunidad autonoma  \\\n",
       "1        1  La Coruña            Galicia   \n",
       "2        2  La Coruña            Galicia   \n",
       "3        3  La Coruña            Galicia   \n",
       "4        4  La Coruña            Galicia   \n",
       "5        5  La Coruña            Galicia   \n",
       "\n",
       "                                              titulo  precio  habitaciones  \\\n",
       "1           Chalet pareado en A Zapateira, Culleredo  1100.0           4.0   \n",
       "2   Chalet pareado en Elviña - A Zapateira, A Coruña  1100.0           4.0   \n",
       "3  Ático en avenida Pasaxe, 35, Los Castros - Cas...   450.0           NaN   \n",
       "4  Piso en calle de Fernando III o Santo, 9, Ensa...  1000.0           4.0   \n",
       "5  Piso en calle Manuel Jesús Méndez Búa, s/n, Ca...   450.0           2.0   \n",
       "\n",
       "                         metros  total inmuebles/comunidad  \\\n",
       "1                           243                       1751   \n",
       "2                           243                       1751   \n",
       "3  Planta 4ª exterior con ascen                       1751   \n",
       "4                           100                       1751   \n",
       "5                            76                       1751   \n",
       "\n",
       "                    ciudad  \n",
       "1                Culleredo  \n",
       "2                 A Coruña  \n",
       "3                 A Coruña  \n",
       "4   Santiago de Compostela  \n",
       "5                   Carral  "
      ]
     },
     "execution_count": 502,
     "metadata": {},
     "output_type": "execute_result"
    }
   ],
   "source": [
    "rent2.head()"
   ]
  },
  {
   "cell_type": "code",
   "execution_count": 503,
   "metadata": {},
   "outputs": [],
   "source": [
    "rent2.rename(columns={'titulo':'descripcion_direccion'}, inplace=True)\n",
    "rent2.rename(columns={'comunidad autonoma':'comunidad_autonoma'}, inplace=True)\n",
    "rent2.rename(columns={'total inmuebles/comunidad':'total_inmuebles'}, inplace=True)\n",
    "rent2.rename(columns={'Column1':'indice'}, inplace=True)"
   ]
  },
  {
   "cell_type": "code",
   "execution_count": 504,
   "metadata": {},
   "outputs": [
    {
     "data": {
      "text/html": [
       "<div>\n",
       "<style scoped>\n",
       "    .dataframe tbody tr th:only-of-type {\n",
       "        vertical-align: middle;\n",
       "    }\n",
       "\n",
       "    .dataframe tbody tr th {\n",
       "        vertical-align: top;\n",
       "    }\n",
       "\n",
       "    .dataframe thead th {\n",
       "        text-align: right;\n",
       "    }\n",
       "</style>\n",
       "<table border=\"1\" class=\"dataframe\">\n",
       "  <thead>\n",
       "    <tr style=\"text-align: right;\">\n",
       "      <th></th>\n",
       "      <th>indice</th>\n",
       "      <th>provincia</th>\n",
       "      <th>comunidad_autonoma</th>\n",
       "      <th>descripcion_direccion</th>\n",
       "      <th>precio</th>\n",
       "      <th>habitaciones</th>\n",
       "      <th>metros</th>\n",
       "      <th>total_inmuebles</th>\n",
       "      <th>ciudad</th>\n",
       "    </tr>\n",
       "  </thead>\n",
       "  <tbody>\n",
       "    <tr>\n",
       "      <th>1</th>\n",
       "      <td>1</td>\n",
       "      <td>La Coruña</td>\n",
       "      <td>Galicia</td>\n",
       "      <td>Chalet pareado en A Zapateira, Culleredo</td>\n",
       "      <td>1100.0</td>\n",
       "      <td>4.0</td>\n",
       "      <td>243</td>\n",
       "      <td>1751</td>\n",
       "      <td>Culleredo</td>\n",
       "    </tr>\n",
       "    <tr>\n",
       "      <th>2</th>\n",
       "      <td>2</td>\n",
       "      <td>La Coruña</td>\n",
       "      <td>Galicia</td>\n",
       "      <td>Chalet pareado en Elviña - A Zapateira, A Coruña</td>\n",
       "      <td>1100.0</td>\n",
       "      <td>4.0</td>\n",
       "      <td>243</td>\n",
       "      <td>1751</td>\n",
       "      <td>A Coruña</td>\n",
       "    </tr>\n",
       "    <tr>\n",
       "      <th>3</th>\n",
       "      <td>3</td>\n",
       "      <td>La Coruña</td>\n",
       "      <td>Galicia</td>\n",
       "      <td>Ático en avenida Pasaxe, 35, Los Castros - Cas...</td>\n",
       "      <td>450.0</td>\n",
       "      <td>NaN</td>\n",
       "      <td>Planta 4ª exterior con ascen</td>\n",
       "      <td>1751</td>\n",
       "      <td>A Coruña</td>\n",
       "    </tr>\n",
       "    <tr>\n",
       "      <th>4</th>\n",
       "      <td>4</td>\n",
       "      <td>La Coruña</td>\n",
       "      <td>Galicia</td>\n",
       "      <td>Piso en calle de Fernando III o Santo, 9, Ensa...</td>\n",
       "      <td>1000.0</td>\n",
       "      <td>4.0</td>\n",
       "      <td>100</td>\n",
       "      <td>1751</td>\n",
       "      <td>Santiago de Compostela</td>\n",
       "    </tr>\n",
       "    <tr>\n",
       "      <th>5</th>\n",
       "      <td>5</td>\n",
       "      <td>La Coruña</td>\n",
       "      <td>Galicia</td>\n",
       "      <td>Piso en calle Manuel Jesús Méndez Búa, s/n, Ca...</td>\n",
       "      <td>450.0</td>\n",
       "      <td>2.0</td>\n",
       "      <td>76</td>\n",
       "      <td>1751</td>\n",
       "      <td>Carral</td>\n",
       "    </tr>\n",
       "  </tbody>\n",
       "</table>\n",
       "</div>"
      ],
      "text/plain": [
       "   indice  provincia comunidad_autonoma  \\\n",
       "1       1  La Coruña            Galicia   \n",
       "2       2  La Coruña            Galicia   \n",
       "3       3  La Coruña            Galicia   \n",
       "4       4  La Coruña            Galicia   \n",
       "5       5  La Coruña            Galicia   \n",
       "\n",
       "                               descripcion_direccion  precio  habitaciones  \\\n",
       "1           Chalet pareado en A Zapateira, Culleredo  1100.0           4.0   \n",
       "2   Chalet pareado en Elviña - A Zapateira, A Coruña  1100.0           4.0   \n",
       "3  Ático en avenida Pasaxe, 35, Los Castros - Cas...   450.0           NaN   \n",
       "4  Piso en calle de Fernando III o Santo, 9, Ensa...  1000.0           4.0   \n",
       "5  Piso en calle Manuel Jesús Méndez Búa, s/n, Ca...   450.0           2.0   \n",
       "\n",
       "                         metros  total_inmuebles                   ciudad  \n",
       "1                           243             1751                Culleredo  \n",
       "2                           243             1751                 A Coruña  \n",
       "3  Planta 4ª exterior con ascen             1751                 A Coruña  \n",
       "4                           100             1751   Santiago de Compostela  \n",
       "5                            76             1751                   Carral  "
      ]
     },
     "execution_count": 504,
     "metadata": {},
     "output_type": "execute_result"
    }
   ],
   "source": [
    "rent2.head()"
   ]
  },
  {
   "cell_type": "code",
   "execution_count": 505,
   "metadata": {},
   "outputs": [
    {
     "name": "stdout",
     "output_type": "stream",
     "text": [
      "       indice                   provincia  comunidad_autonoma  \\\n",
      "658       658                   La Coruña             Galicia   \n",
      "24965   24965                   Cantabria           Cantabria   \n",
      "27447   27447                 Ciudad Real  Castilla La Mancha   \n",
      "28757   28757                      Cuenca  Castilla La Mancha   \n",
      "37045   37045  Las Palmas de Gran Canaria            Canarias   \n",
      "\n",
      "                                   descripcion_direccion  precio  \\\n",
      "658    Casa o chalet independiente en Lugar Seixas, 7...   650.0   \n",
      "24965  Casa o chalet independiente en lepanto, 10, El...  5000.0   \n",
      "27447  Casa de pueblo en plaza de San Juan, 6, Villan...   650.0   \n",
      "28757  Castillo en calle Palomar, 1, Valhermoso de la...   200.0   \n",
      "37045  Casa o chalet independiente en Montaña Roja, 1...  1200.0   \n",
      "\n",
      "       habitaciones metros  total_inmuebles                       ciudad  \n",
      "658             3.0    NaN             1751                      Monfero  \n",
      "24965           6.0    NaN             1275                 El Astillero  \n",
      "27447           4.0    NaN              554   Villanueva de los Infantes  \n",
      "28757           3.0    NaN              115      Valhermoso de la Fuente  \n",
      "37045           1.0    NaN             1743                        Yaiza  \n"
     ]
    }
   ],
   "source": [
    "print(rent2[rent2['metros'].isnull()])"
   ]
  },
  {
   "cell_type": "code",
   "execution_count": 506,
   "metadata": {},
   "outputs": [],
   "source": [
    "#dropping the rows with missing values in metros column to be able to replace the strings with Nan values in that column and then, \n",
    "#if there aren't a lot (less than 7000 rows), drop that rows too\n",
    "rent2.drop([658], inplace= True)\n",
    "rent2.drop([24965], inplace= True)\n",
    "rent2.drop([27447], inplace= True)\n",
    "rent2.drop([28757], inplace= True)\n",
    "rent2.drop([37045], inplace= True)"
   ]
  },
  {
   "cell_type": "code",
   "execution_count": 507,
   "metadata": {},
   "outputs": [
    {
     "data": {
      "text/plain": [
       "indice                      0\n",
       "provincia                   0\n",
       "comunidad_autonoma          0\n",
       "descripcion_direccion       0\n",
       "precio                      0\n",
       "habitaciones             3696\n",
       "metros                      0\n",
       "total_inmuebles             0\n",
       "ciudad                      0\n",
       "dtype: int64"
      ]
     },
     "execution_count": 507,
     "metadata": {},
     "output_type": "execute_result"
    }
   ],
   "source": [
    "# show null/NA values per column\n",
    "rent2.isnull().sum()"
   ]
  },
  {
   "cell_type": "code",
   "execution_count": 508,
   "metadata": {},
   "outputs": [],
   "source": [
    "#find non numeric values in the column metros\n",
    "rent2['metros'] = pd.to_numeric(rent2['metros'], errors='coerce')"
   ]
  },
  {
   "cell_type": "code",
   "execution_count": 509,
   "metadata": {},
   "outputs": [
    {
     "data": {
      "text/plain": [
       "indice                      0\n",
       "provincia                   0\n",
       "comunidad_autonoma          0\n",
       "descripcion_direccion       0\n",
       "precio                      0\n",
       "habitaciones             3696\n",
       "metros                   4002\n",
       "total_inmuebles             0\n",
       "ciudad                      0\n",
       "dtype: int64"
      ]
     },
     "execution_count": 509,
     "metadata": {},
     "output_type": "execute_result"
    }
   ],
   "source": [
    "# show null/NA values per column\n",
    "rent2.isnull().sum()"
   ]
  },
  {
   "cell_type": "code",
   "execution_count": 510,
   "metadata": {},
   "outputs": [
    {
     "name": "stdout",
     "output_type": "stream",
     "text": [
      "Int64Index([    3,    66,   103,   111,   125,   341,   408,   696,   698,\n",
      "              743,\n",
      "            ...\n",
      "            78935, 78984, 78992, 79091, 79284, 79302, 79432, 79631, 79689,\n",
      "            79707],\n",
      "           dtype='int64', length=3696)\n"
     ]
    },
    {
     "data": {
      "text/plain": [
       "3696"
      ]
     },
     "execution_count": 510,
     "metadata": {},
     "output_type": "execute_result"
    }
   ],
   "source": [
    "#finding rows with more than one NaN values to drop them \n",
    "rent_nan4 = rent2.loc[rent2.isnull().sum(1)>1].index\n",
    "print(rent_nan4)\n",
    "rent_nan4.value_counts().sum()"
   ]
  },
  {
   "cell_type": "code",
   "execution_count": 511,
   "metadata": {},
   "outputs": [],
   "source": [
    "rent2.drop(rent_nan4, inplace=True)"
   ]
  },
  {
   "cell_type": "code",
   "execution_count": 512,
   "metadata": {},
   "outputs": [
    {
     "data": {
      "text/plain": [
       "indice                     0\n",
       "provincia                  0\n",
       "comunidad_autonoma         0\n",
       "descripcion_direccion      0\n",
       "precio                     0\n",
       "habitaciones               0\n",
       "metros                   306\n",
       "total_inmuebles            0\n",
       "ciudad                     0\n",
       "dtype: int64"
      ]
     },
     "execution_count": 512,
     "metadata": {},
     "output_type": "execute_result"
    }
   ],
   "source": [
    "# show null/NA values per column\n",
    "rent2.isnull().sum()"
   ]
  },
  {
   "cell_type": "code",
   "execution_count": 513,
   "metadata": {},
   "outputs": [
    {
     "name": "stdout",
     "output_type": "stream",
     "text": [
      "Int64Index([  540,  1500,  1503,  1723,  1753,  2104,  3540,  9408, 10926,\n",
      "            11280,\n",
      "            ...\n",
      "            67985, 71312, 71356, 72438, 72751, 72890, 73165, 73931, 77233,\n",
      "            79482],\n",
      "           dtype='int64', length=306)\n"
     ]
    },
    {
     "data": {
      "text/plain": [
       "306"
      ]
     },
     "execution_count": 513,
     "metadata": {},
     "output_type": "execute_result"
    }
   ],
   "source": [
    "#finding rows with at least one Nan\n",
    "rent_nan5 = rent2.loc[rent2.isnull().sum(1)>0].index\n",
    "print(rent_nan5)\n",
    "rent_nan5.value_counts().sum()"
   ]
  },
  {
   "cell_type": "code",
   "execution_count": 514,
   "metadata": {},
   "outputs": [],
   "source": [
    "rent2.drop(rent_nan5, inplace=True)"
   ]
  },
  {
   "cell_type": "code",
   "execution_count": 515,
   "metadata": {},
   "outputs": [
    {
     "data": {
      "text/plain": [
       "indice                   0\n",
       "provincia                0\n",
       "comunidad_autonoma       0\n",
       "descripcion_direccion    0\n",
       "precio                   0\n",
       "habitaciones             0\n",
       "metros                   0\n",
       "total_inmuebles          0\n",
       "ciudad                   0\n",
       "dtype: int64"
      ]
     },
     "execution_count": 515,
     "metadata": {},
     "output_type": "execute_result"
    }
   ],
   "source": [
    "rent2.isnull().sum()"
   ]
  },
  {
   "cell_type": "markdown",
   "metadata": {},
   "source": [
    "### Correlation and describe"
   ]
  },
  {
   "cell_type": "code",
   "execution_count": 516,
   "metadata": {},
   "outputs": [
    {
     "data": {
      "text/html": [
       "<div>\n",
       "<style scoped>\n",
       "    .dataframe tbody tr th:only-of-type {\n",
       "        vertical-align: middle;\n",
       "    }\n",
       "\n",
       "    .dataframe tbody tr th {\n",
       "        vertical-align: top;\n",
       "    }\n",
       "\n",
       "    .dataframe thead th {\n",
       "        text-align: right;\n",
       "    }\n",
       "</style>\n",
       "<table border=\"1\" class=\"dataframe\">\n",
       "  <thead>\n",
       "    <tr style=\"text-align: right;\">\n",
       "      <th></th>\n",
       "      <th>precio</th>\n",
       "      <th>habitaciones</th>\n",
       "      <th>metros</th>\n",
       "      <th>total_inmuebles</th>\n",
       "    </tr>\n",
       "  </thead>\n",
       "  <tbody>\n",
       "    <tr>\n",
       "      <th>precio</th>\n",
       "      <td>1.000000</td>\n",
       "      <td>0.313786</td>\n",
       "      <td>0.191173</td>\n",
       "      <td>0.118700</td>\n",
       "    </tr>\n",
       "    <tr>\n",
       "      <th>habitaciones</th>\n",
       "      <td>0.313786</td>\n",
       "      <td>1.000000</td>\n",
       "      <td>0.240437</td>\n",
       "      <td>-0.150783</td>\n",
       "    </tr>\n",
       "    <tr>\n",
       "      <th>metros</th>\n",
       "      <td>0.191173</td>\n",
       "      <td>0.240437</td>\n",
       "      <td>1.000000</td>\n",
       "      <td>-0.017772</td>\n",
       "    </tr>\n",
       "    <tr>\n",
       "      <th>total_inmuebles</th>\n",
       "      <td>0.118700</td>\n",
       "      <td>-0.150783</td>\n",
       "      <td>-0.017772</td>\n",
       "      <td>1.000000</td>\n",
       "    </tr>\n",
       "  </tbody>\n",
       "</table>\n",
       "</div>"
      ],
      "text/plain": [
       "                   precio  habitaciones    metros  total_inmuebles\n",
       "precio           1.000000      0.313786  0.191173         0.118700\n",
       "habitaciones     0.313786      1.000000  0.240437        -0.150783\n",
       "metros           0.191173      0.240437  1.000000        -0.017772\n",
       "total_inmuebles  0.118700     -0.150783 -0.017772         1.000000"
      ]
     },
     "execution_count": 516,
     "metadata": {},
     "output_type": "execute_result"
    }
   ],
   "source": [
    "rent2[['precio','habitaciones','metros','total_inmuebles' ]].corr()\n",
    "\n",
    "#we observe a very low correlation between price rooms and meters, also with total of houses avaibles to rent."
   ]
  },
  {
   "cell_type": "code",
   "execution_count": 517,
   "metadata": {},
   "outputs": [
    {
     "data": {
      "text/html": [
       "<div>\n",
       "<style scoped>\n",
       "    .dataframe tbody tr th:only-of-type {\n",
       "        vertical-align: middle;\n",
       "    }\n",
       "\n",
       "    .dataframe tbody tr th {\n",
       "        vertical-align: top;\n",
       "    }\n",
       "\n",
       "    .dataframe thead th {\n",
       "        text-align: right;\n",
       "    }\n",
       "</style>\n",
       "<table border=\"1\" class=\"dataframe\">\n",
       "  <thead>\n",
       "    <tr style=\"text-align: right;\">\n",
       "      <th></th>\n",
       "      <th>indice</th>\n",
       "      <th>precio</th>\n",
       "      <th>habitaciones</th>\n",
       "      <th>metros</th>\n",
       "      <th>total_inmuebles</th>\n",
       "    </tr>\n",
       "  </thead>\n",
       "  <tbody>\n",
       "    <tr>\n",
       "      <th>count</th>\n",
       "      <td>75728.000000</td>\n",
       "      <td>75728.000000</td>\n",
       "      <td>75728.000000</td>\n",
       "      <td>75728.000000</td>\n",
       "      <td>75728.000000</td>\n",
       "    </tr>\n",
       "    <tr>\n",
       "      <th>mean</th>\n",
       "      <td>39679.808895</td>\n",
       "      <td>1278.416781</td>\n",
       "      <td>2.478991</td>\n",
       "      <td>105.740293</td>\n",
       "      <td>6136.360514</td>\n",
       "    </tr>\n",
       "    <tr>\n",
       "      <th>std</th>\n",
       "      <td>23251.045010</td>\n",
       "      <td>1697.903108</td>\n",
       "      <td>1.151673</td>\n",
       "      <td>197.879154</td>\n",
       "      <td>6376.276620</td>\n",
       "    </tr>\n",
       "    <tr>\n",
       "      <th>min</th>\n",
       "      <td>1.000000</td>\n",
       "      <td>0.000000</td>\n",
       "      <td>0.000000</td>\n",
       "      <td>1.000000</td>\n",
       "      <td>0.000000</td>\n",
       "    </tr>\n",
       "    <tr>\n",
       "      <th>25%</th>\n",
       "      <td>19432.750000</td>\n",
       "      <td>650.000000</td>\n",
       "      <td>2.000000</td>\n",
       "      <td>65.000000</td>\n",
       "      <td>1345.000000</td>\n",
       "    </tr>\n",
       "    <tr>\n",
       "      <th>50%</th>\n",
       "      <td>39123.500000</td>\n",
       "      <td>900.000000</td>\n",
       "      <td>2.000000</td>\n",
       "      <td>84.000000</td>\n",
       "      <td>3115.000000</td>\n",
       "    </tr>\n",
       "    <tr>\n",
       "      <th>75%</th>\n",
       "      <td>60132.250000</td>\n",
       "      <td>1400.000000</td>\n",
       "      <td>3.000000</td>\n",
       "      <td>114.000000</td>\n",
       "      <td>9455.000000</td>\n",
       "    </tr>\n",
       "    <tr>\n",
       "      <th>max</th>\n",
       "      <td>79748.000000</td>\n",
       "      <td>100000.000000</td>\n",
       "      <td>45.000000</td>\n",
       "      <td>50000.000000</td>\n",
       "      <td>17589.000000</td>\n",
       "    </tr>\n",
       "  </tbody>\n",
       "</table>\n",
       "</div>"
      ],
      "text/plain": [
       "             indice         precio  habitaciones        metros  \\\n",
       "count  75728.000000   75728.000000  75728.000000  75728.000000   \n",
       "mean   39679.808895    1278.416781      2.478991    105.740293   \n",
       "std    23251.045010    1697.903108      1.151673    197.879154   \n",
       "min        1.000000       0.000000      0.000000      1.000000   \n",
       "25%    19432.750000     650.000000      2.000000     65.000000   \n",
       "50%    39123.500000     900.000000      2.000000     84.000000   \n",
       "75%    60132.250000    1400.000000      3.000000    114.000000   \n",
       "max    79748.000000  100000.000000     45.000000  50000.000000   \n",
       "\n",
       "       total_inmuebles  \n",
       "count     75728.000000  \n",
       "mean       6136.360514  \n",
       "std        6376.276620  \n",
       "min           0.000000  \n",
       "25%        1345.000000  \n",
       "50%        3115.000000  \n",
       "75%        9455.000000  \n",
       "max       17589.000000  "
      ]
     },
     "execution_count": 517,
     "metadata": {},
     "output_type": "execute_result"
    }
   ],
   "source": [
    "rent2.describe()\n",
    "\n",
    "#We can see min values no logicals, so we affirm we have outliers.\n",
    "# maybe we have outliers with the price column, but it could be a max price of 100.000 for rent, even if it\n",
    "# is expensive it could be. But, we "
   ]
  },
  {
   "cell_type": "code",
   "execution_count": 518,
   "metadata": {},
   "outputs": [
    {
     "data": {
      "text/html": [
       "<div>\n",
       "<style scoped>\n",
       "    .dataframe tbody tr th:only-of-type {\n",
       "        vertical-align: middle;\n",
       "    }\n",
       "\n",
       "    .dataframe tbody tr th {\n",
       "        vertical-align: top;\n",
       "    }\n",
       "\n",
       "    .dataframe thead th {\n",
       "        text-align: right;\n",
       "    }\n",
       "</style>\n",
       "<table border=\"1\" class=\"dataframe\">\n",
       "  <thead>\n",
       "    <tr style=\"text-align: right;\">\n",
       "      <th></th>\n",
       "      <th>indice</th>\n",
       "      <th>provincia</th>\n",
       "      <th>comunidad_autonoma</th>\n",
       "      <th>descripcion_direccion</th>\n",
       "      <th>precio</th>\n",
       "      <th>habitaciones</th>\n",
       "      <th>metros</th>\n",
       "      <th>total_inmuebles</th>\n",
       "      <th>ciudad</th>\n",
       "    </tr>\n",
       "  </thead>\n",
       "  <tbody>\n",
       "    <tr>\n",
       "      <th>34358</th>\n",
       "      <td>34358</td>\n",
       "      <td>Huesca</td>\n",
       "      <td>Aragon</td>\n",
       "      <td>Piso en calle de Francia, 12, Sallent de Gallego</td>\n",
       "      <td>0.0</td>\n",
       "      <td>4.0</td>\n",
       "      <td>122.0</td>\n",
       "      <td>260</td>\n",
       "      <td>Sallent de Gallego</td>\n",
       "    </tr>\n",
       "    <tr>\n",
       "      <th>34361</th>\n",
       "      <td>34361</td>\n",
       "      <td>Huesca</td>\n",
       "      <td>Aragon</td>\n",
       "      <td>Dúplex en Urbanización Espata R5, 13, Villanúa</td>\n",
       "      <td>0.0</td>\n",
       "      <td>2.0</td>\n",
       "      <td>57.0</td>\n",
       "      <td>4444</td>\n",
       "      <td>Villanúa</td>\n",
       "    </tr>\n",
       "  </tbody>\n",
       "</table>\n",
       "</div>"
      ],
      "text/plain": [
       "       indice provincia comunidad_autonoma  \\\n",
       "34358   34358    Huesca             Aragon   \n",
       "34361   34361    Huesca             Aragon   \n",
       "\n",
       "                                  descripcion_direccion  precio  habitaciones  \\\n",
       "34358  Piso en calle de Francia, 12, Sallent de Gallego     0.0           4.0   \n",
       "34361    Dúplex en Urbanización Espata R5, 13, Villanúa     0.0           2.0   \n",
       "\n",
       "       metros  total_inmuebles               ciudad  \n",
       "34358   122.0              260   Sallent de Gallego  \n",
       "34361    57.0             4444             Villanúa  "
      ]
     },
     "execution_count": 518,
     "metadata": {},
     "output_type": "execute_result"
    }
   ],
   "source": [
    "#finding outliers from precio. A rent can not be for free but we can have a price of 100.000 euros\n",
    "precio_out = rent2[rent2['precio'] <= np.quantile(rent2['precio'], 0.00001)]\n",
    "precio_out"
   ]
  },
  {
   "cell_type": "code",
   "execution_count": 519,
   "metadata": {},
   "outputs": [],
   "source": [
    "rent2.drop([34358], inplace= True)\n",
    "rent2.drop([34361], inplace= True)"
   ]
  },
  {
   "cell_type": "code",
   "execution_count": 520,
   "metadata": {},
   "outputs": [
    {
     "data": {
      "text/html": [
       "<div>\n",
       "<style scoped>\n",
       "    .dataframe tbody tr th:only-of-type {\n",
       "        vertical-align: middle;\n",
       "    }\n",
       "\n",
       "    .dataframe tbody tr th {\n",
       "        vertical-align: top;\n",
       "    }\n",
       "\n",
       "    .dataframe thead th {\n",
       "        text-align: right;\n",
       "    }\n",
       "</style>\n",
       "<table border=\"1\" class=\"dataframe\">\n",
       "  <thead>\n",
       "    <tr style=\"text-align: right;\">\n",
       "      <th></th>\n",
       "      <th>indice</th>\n",
       "      <th>provincia</th>\n",
       "      <th>comunidad_autonoma</th>\n",
       "      <th>descripcion_direccion</th>\n",
       "      <th>precio</th>\n",
       "      <th>habitaciones</th>\n",
       "      <th>metros</th>\n",
       "      <th>total_inmuebles</th>\n",
       "      <th>ciudad</th>\n",
       "    </tr>\n",
       "  </thead>\n",
       "  <tbody>\n",
       "    <tr>\n",
       "      <th>34352</th>\n",
       "      <td>34352</td>\n",
       "      <td>Huesca</td>\n",
       "      <td>Aragon</td>\n",
       "      <td>Piso en calle Escuelas, 10, Biscarrués</td>\n",
       "      <td>350.0</td>\n",
       "      <td>0.0</td>\n",
       "      <td>50000.0</td>\n",
       "      <td>260</td>\n",
       "      <td>Biscarrués</td>\n",
       "    </tr>\n",
       "    <tr>\n",
       "      <th>34360</th>\n",
       "      <td>34360</td>\n",
       "      <td>Huesca</td>\n",
       "      <td>Aragon</td>\n",
       "      <td>Casa de pueblo en calle Escuelas, 7, Biscarrués</td>\n",
       "      <td>350.0</td>\n",
       "      <td>0.0</td>\n",
       "      <td>100.0</td>\n",
       "      <td>260</td>\n",
       "      <td>Biscarrués</td>\n",
       "    </tr>\n",
       "    <tr>\n",
       "      <th>34384</th>\n",
       "      <td>34384</td>\n",
       "      <td>Huesca</td>\n",
       "      <td>Aragon</td>\n",
       "      <td>Piso en Santiago, Huesca</td>\n",
       "      <td>680.0</td>\n",
       "      <td>0.0</td>\n",
       "      <td>100.0</td>\n",
       "      <td>260</td>\n",
       "      <td>Huesca</td>\n",
       "    </tr>\n",
       "  </tbody>\n",
       "</table>\n",
       "</div>"
      ],
      "text/plain": [
       "       indice provincia comunidad_autonoma  \\\n",
       "34352   34352    Huesca             Aragon   \n",
       "34360   34360    Huesca             Aragon   \n",
       "34384   34384    Huesca             Aragon   \n",
       "\n",
       "                                 descripcion_direccion  precio  habitaciones  \\\n",
       "34352           Piso en calle Escuelas, 10, Biscarrués   350.0           0.0   \n",
       "34360  Casa de pueblo en calle Escuelas, 7, Biscarrués   350.0           0.0   \n",
       "34384                         Piso en Santiago, Huesca   680.0           0.0   \n",
       "\n",
       "        metros  total_inmuebles       ciudad  \n",
       "34352  50000.0              260   Biscarrués  \n",
       "34360    100.0              260   Biscarrués  \n",
       "34384    100.0              260       Huesca  "
      ]
     },
     "execution_count": 520,
     "metadata": {},
     "output_type": "execute_result"
    }
   ],
   "source": [
    "habitaciones_out = rent2[rent2['habitaciones'] <= np.quantile(rent2['habitaciones'], 0.00001)]\n",
    "habitaciones_out"
   ]
  },
  {
   "cell_type": "code",
   "execution_count": 521,
   "metadata": {},
   "outputs": [],
   "source": [
    "# we assume that a house should have at least 1 room, so we drop the 0 rooms houses"
   ]
  },
  {
   "cell_type": "code",
   "execution_count": 522,
   "metadata": {},
   "outputs": [],
   "source": [
    "rent2.drop([34352], inplace= True)\n",
    "rent2.drop([34360], inplace= True)\n",
    "rent2.drop([34384], inplace= True)"
   ]
  },
  {
   "cell_type": "code",
   "execution_count": 523,
   "metadata": {},
   "outputs": [
    {
     "data": {
      "text/html": [
       "<div>\n",
       "<style scoped>\n",
       "    .dataframe tbody tr th:only-of-type {\n",
       "        vertical-align: middle;\n",
       "    }\n",
       "\n",
       "    .dataframe tbody tr th {\n",
       "        vertical-align: top;\n",
       "    }\n",
       "\n",
       "    .dataframe thead th {\n",
       "        text-align: right;\n",
       "    }\n",
       "</style>\n",
       "<table border=\"1\" class=\"dataframe\">\n",
       "  <thead>\n",
       "    <tr style=\"text-align: right;\">\n",
       "      <th></th>\n",
       "      <th>indice</th>\n",
       "      <th>provincia</th>\n",
       "      <th>comunidad_autonoma</th>\n",
       "      <th>descripcion_direccion</th>\n",
       "      <th>precio</th>\n",
       "      <th>habitaciones</th>\n",
       "      <th>metros</th>\n",
       "      <th>total_inmuebles</th>\n",
       "      <th>ciudad</th>\n",
       "    </tr>\n",
       "  </thead>\n",
       "  <tbody>\n",
       "    <tr>\n",
       "      <th>34354</th>\n",
       "      <td>34354</td>\n",
       "      <td>Huesca</td>\n",
       "      <td>Aragon</td>\n",
       "      <td>Piso en carretera Pamplona, 2, Puente la Reina...</td>\n",
       "      <td>360.0</td>\n",
       "      <td>2.0</td>\n",
       "      <td>65.0</td>\n",
       "      <td>0</td>\n",
       "      <td>Puente la Reina de Jaca</td>\n",
       "    </tr>\n",
       "  </tbody>\n",
       "</table>\n",
       "</div>"
      ],
      "text/plain": [
       "       indice provincia comunidad_autonoma  \\\n",
       "34354   34354    Huesca             Aragon   \n",
       "\n",
       "                                   descripcion_direccion  precio  \\\n",
       "34354  Piso en carretera Pamplona, 2, Puente la Reina...   360.0   \n",
       "\n",
       "       habitaciones  metros  total_inmuebles                    ciudad  \n",
       "34354           2.0    65.0                0   Puente la Reina de Jaca  "
      ]
     },
     "execution_count": 523,
     "metadata": {},
     "output_type": "execute_result"
    }
   ],
   "source": [
    "# we want to find the rows with value 0 for the total houses avaibles for rent\n",
    "totalinm_out = rent2[rent2['total_inmuebles'] <= np.quantile(rent2['total_inmuebles'], 0.00001)]\n",
    "totalinm_out"
   ]
  },
  {
   "cell_type": "code",
   "execution_count": 524,
   "metadata": {},
   "outputs": [],
   "source": [
    "rent2.drop([34354], inplace= True)"
   ]
  },
  {
   "cell_type": "code",
   "execution_count": 525,
   "metadata": {},
   "outputs": [
    {
     "data": {
      "text/html": [
       "<div>\n",
       "<style scoped>\n",
       "    .dataframe tbody tr th:only-of-type {\n",
       "        vertical-align: middle;\n",
       "    }\n",
       "\n",
       "    .dataframe tbody tr th {\n",
       "        vertical-align: top;\n",
       "    }\n",
       "\n",
       "    .dataframe thead th {\n",
       "        text-align: right;\n",
       "    }\n",
       "</style>\n",
       "<table border=\"1\" class=\"dataframe\">\n",
       "  <thead>\n",
       "    <tr style=\"text-align: right;\">\n",
       "      <th></th>\n",
       "      <th>indice</th>\n",
       "      <th>provincia</th>\n",
       "      <th>comunidad_autonoma</th>\n",
       "      <th>descripcion_direccion</th>\n",
       "      <th>precio</th>\n",
       "      <th>habitaciones</th>\n",
       "      <th>metros</th>\n",
       "      <th>total_inmuebles</th>\n",
       "      <th>ciudad</th>\n",
       "    </tr>\n",
       "  </thead>\n",
       "  <tbody>\n",
       "    <tr>\n",
       "      <th>34369</th>\n",
       "      <td>34369</td>\n",
       "      <td>Huesca</td>\n",
       "      <td>Aragon</td>\n",
       "      <td>Piso en calle Valle Vio, 16, Ainsa-Sobrarbe</td>\n",
       "      <td>600.0</td>\n",
       "      <td>45.0</td>\n",
       "      <td>100.0</td>\n",
       "      <td>260</td>\n",
       "      <td>Ainsa-Sobrarbe</td>\n",
       "    </tr>\n",
       "  </tbody>\n",
       "</table>\n",
       "</div>"
      ],
      "text/plain": [
       "       indice provincia comunidad_autonoma  \\\n",
       "34369   34369    Huesca             Aragon   \n",
       "\n",
       "                             descripcion_direccion  precio  habitaciones  \\\n",
       "34369  Piso en calle Valle Vio, 16, Ainsa-Sobrarbe   600.0          45.0   \n",
       "\n",
       "       metros  total_inmuebles           ciudad  \n",
       "34369   100.0              260   Ainsa-Sobrarbe  "
      ]
     },
     "execution_count": 525,
     "metadata": {},
     "output_type": "execute_result"
    }
   ],
   "source": [
    "#outliers for rooms\n",
    "habitaciones_max = rent2[rent2['habitaciones'] >= np.quantile(rent2['habitaciones'], 0.99999)]\n",
    "habitaciones_max"
   ]
  },
  {
   "cell_type": "code",
   "execution_count": 526,
   "metadata": {},
   "outputs": [],
   "source": [
    "# 45 rooms for 100m in a house... not very logical. Let's remove it"
   ]
  },
  {
   "cell_type": "code",
   "execution_count": 527,
   "metadata": {},
   "outputs": [],
   "source": [
    "rent2.drop([34369], inplace= True)"
   ]
  },
  {
   "cell_type": "code",
   "execution_count": 528,
   "metadata": {},
   "outputs": [],
   "source": [
    "rent2['provincia'] = rent2['provincia'].str.lower()\n",
    "rent2['comunidad_autonoma'] = rent2['comunidad_autonoma'].str.lower()\n",
    "rent2['ciudad'] = rent2['ciudad'].str.lower()\n",
    "rent2['descripcion_direccion'] = rent2['descripcion_direccion'].str.lower()\n"
   ]
  },
  {
   "cell_type": "code",
   "execution_count": 529,
   "metadata": {},
   "outputs": [
    {
     "data": {
      "text/html": [
       "<div>\n",
       "<style scoped>\n",
       "    .dataframe tbody tr th:only-of-type {\n",
       "        vertical-align: middle;\n",
       "    }\n",
       "\n",
       "    .dataframe tbody tr th {\n",
       "        vertical-align: top;\n",
       "    }\n",
       "\n",
       "    .dataframe thead th {\n",
       "        text-align: right;\n",
       "    }\n",
       "</style>\n",
       "<table border=\"1\" class=\"dataframe\">\n",
       "  <thead>\n",
       "    <tr style=\"text-align: right;\">\n",
       "      <th></th>\n",
       "      <th>indice</th>\n",
       "      <th>provincia</th>\n",
       "      <th>comunidad_autonoma</th>\n",
       "      <th>descripcion_direccion</th>\n",
       "      <th>precio</th>\n",
       "      <th>habitaciones</th>\n",
       "      <th>metros</th>\n",
       "      <th>total_inmuebles</th>\n",
       "      <th>ciudad</th>\n",
       "    </tr>\n",
       "  </thead>\n",
       "  <tbody>\n",
       "    <tr>\n",
       "      <th>1</th>\n",
       "      <td>1</td>\n",
       "      <td>la coruña</td>\n",
       "      <td>galicia</td>\n",
       "      <td>chalet pareado en a zapateira, culleredo</td>\n",
       "      <td>1100</td>\n",
       "      <td>4</td>\n",
       "      <td>243</td>\n",
       "      <td>1751</td>\n",
       "      <td>culleredo</td>\n",
       "    </tr>\n",
       "    <tr>\n",
       "      <th>2</th>\n",
       "      <td>2</td>\n",
       "      <td>la coruña</td>\n",
       "      <td>galicia</td>\n",
       "      <td>chalet pareado en elviña - a zapateira, a coruña</td>\n",
       "      <td>1100</td>\n",
       "      <td>4</td>\n",
       "      <td>243</td>\n",
       "      <td>1751</td>\n",
       "      <td>a coruña</td>\n",
       "    </tr>\n",
       "    <tr>\n",
       "      <th>4</th>\n",
       "      <td>4</td>\n",
       "      <td>la coruña</td>\n",
       "      <td>galicia</td>\n",
       "      <td>piso en calle de fernando iii o santo, 9, ensa...</td>\n",
       "      <td>1000</td>\n",
       "      <td>4</td>\n",
       "      <td>100</td>\n",
       "      <td>1751</td>\n",
       "      <td>santiago de compostela</td>\n",
       "    </tr>\n",
       "    <tr>\n",
       "      <th>5</th>\n",
       "      <td>5</td>\n",
       "      <td>la coruña</td>\n",
       "      <td>galicia</td>\n",
       "      <td>piso en calle manuel jesús méndez búa, s/n, ca...</td>\n",
       "      <td>450</td>\n",
       "      <td>2</td>\n",
       "      <td>76</td>\n",
       "      <td>1751</td>\n",
       "      <td>carral</td>\n",
       "    </tr>\n",
       "    <tr>\n",
       "      <th>6</th>\n",
       "      <td>6</td>\n",
       "      <td>la coruña</td>\n",
       "      <td>galicia</td>\n",
       "      <td>piso en os mallos, a coruña</td>\n",
       "      <td>800</td>\n",
       "      <td>4</td>\n",
       "      <td>100</td>\n",
       "      <td>1751</td>\n",
       "      <td>a coruña</td>\n",
       "    </tr>\n",
       "  </tbody>\n",
       "</table>\n",
       "</div>"
      ],
      "text/plain": [
       "   indice  provincia comunidad_autonoma  \\\n",
       "1       1  la coruña            galicia   \n",
       "2       2  la coruña            galicia   \n",
       "4       4  la coruña            galicia   \n",
       "5       5  la coruña            galicia   \n",
       "6       6  la coruña            galicia   \n",
       "\n",
       "                               descripcion_direccion  precio  habitaciones  \\\n",
       "1           chalet pareado en a zapateira, culleredo    1100             4   \n",
       "2   chalet pareado en elviña - a zapateira, a coruña    1100             4   \n",
       "4  piso en calle de fernando iii o santo, 9, ensa...    1000             4   \n",
       "5  piso en calle manuel jesús méndez búa, s/n, ca...     450             2   \n",
       "6                        piso en os mallos, a coruña     800             4   \n",
       "\n",
       "   metros  total_inmuebles                   ciudad  \n",
       "1     243             1751                culleredo  \n",
       "2     243             1751                 a coruña  \n",
       "4     100             1751   santiago de compostela  \n",
       "5      76             1751                   carral  \n",
       "6     100             1751                 a coruña  "
      ]
     },
     "execution_count": 529,
     "metadata": {},
     "output_type": "execute_result"
    }
   ],
   "source": [
    "#Rounded the numbers by .astype as an integer\n",
    "rent2['precio'] = rent2['precio'].astype(int)\n",
    "rent2['habitaciones'] = rent2['habitaciones'].astype(int)\n",
    "rent2['metros'] = rent2['metros'].astype(int)\n",
    "rent2.head()"
   ]
  },
  {
   "cell_type": "code",
   "execution_count": 534,
   "metadata": {},
   "outputs": [],
   "source": [
    "rent2.drop(rent2[rent2.metros < 5].index, inplace=True)"
   ]
  },
  {
   "cell_type": "code",
   "execution_count": 535,
   "metadata": {},
   "outputs": [
    {
     "data": {
      "text/html": [
       "<div>\n",
       "<style scoped>\n",
       "    .dataframe tbody tr th:only-of-type {\n",
       "        vertical-align: middle;\n",
       "    }\n",
       "\n",
       "    .dataframe tbody tr th {\n",
       "        vertical-align: top;\n",
       "    }\n",
       "\n",
       "    .dataframe thead th {\n",
       "        text-align: right;\n",
       "    }\n",
       "</style>\n",
       "<table border=\"1\" class=\"dataframe\">\n",
       "  <thead>\n",
       "    <tr style=\"text-align: right;\">\n",
       "      <th></th>\n",
       "      <th>indice</th>\n",
       "      <th>provincia</th>\n",
       "      <th>comunidad_autonoma</th>\n",
       "      <th>descripcion_direccion</th>\n",
       "      <th>precio</th>\n",
       "      <th>habitaciones</th>\n",
       "      <th>metros</th>\n",
       "      <th>total_inmuebles</th>\n",
       "      <th>ciudad</th>\n",
       "    </tr>\n",
       "  </thead>\n",
       "  <tbody>\n",
       "    <tr>\n",
       "      <th>1</th>\n",
       "      <td>1</td>\n",
       "      <td>la coruña</td>\n",
       "      <td>galicia</td>\n",
       "      <td>chalet pareado en a zapateira, culleredo</td>\n",
       "      <td>1100</td>\n",
       "      <td>4</td>\n",
       "      <td>243</td>\n",
       "      <td>1751</td>\n",
       "      <td>culleredo</td>\n",
       "    </tr>\n",
       "    <tr>\n",
       "      <th>2</th>\n",
       "      <td>2</td>\n",
       "      <td>la coruña</td>\n",
       "      <td>galicia</td>\n",
       "      <td>chalet pareado en elviña - a zapateira, a coruña</td>\n",
       "      <td>1100</td>\n",
       "      <td>4</td>\n",
       "      <td>243</td>\n",
       "      <td>1751</td>\n",
       "      <td>a coruña</td>\n",
       "    </tr>\n",
       "    <tr>\n",
       "      <th>4</th>\n",
       "      <td>4</td>\n",
       "      <td>la coruña</td>\n",
       "      <td>galicia</td>\n",
       "      <td>piso en calle de fernando iii o santo, 9, ensa...</td>\n",
       "      <td>1000</td>\n",
       "      <td>4</td>\n",
       "      <td>100</td>\n",
       "      <td>1751</td>\n",
       "      <td>santiago de compostela</td>\n",
       "    </tr>\n",
       "    <tr>\n",
       "      <th>5</th>\n",
       "      <td>5</td>\n",
       "      <td>la coruña</td>\n",
       "      <td>galicia</td>\n",
       "      <td>piso en calle manuel jesús méndez búa, s/n, ca...</td>\n",
       "      <td>450</td>\n",
       "      <td>2</td>\n",
       "      <td>76</td>\n",
       "      <td>1751</td>\n",
       "      <td>carral</td>\n",
       "    </tr>\n",
       "    <tr>\n",
       "      <th>6</th>\n",
       "      <td>6</td>\n",
       "      <td>la coruña</td>\n",
       "      <td>galicia</td>\n",
       "      <td>piso en os mallos, a coruña</td>\n",
       "      <td>800</td>\n",
       "      <td>4</td>\n",
       "      <td>100</td>\n",
       "      <td>1751</td>\n",
       "      <td>a coruña</td>\n",
       "    </tr>\n",
       "  </tbody>\n",
       "</table>\n",
       "</div>"
      ],
      "text/plain": [
       "   indice  provincia comunidad_autonoma  \\\n",
       "1       1  la coruña            galicia   \n",
       "2       2  la coruña            galicia   \n",
       "4       4  la coruña            galicia   \n",
       "5       5  la coruña            galicia   \n",
       "6       6  la coruña            galicia   \n",
       "\n",
       "                               descripcion_direccion  precio  habitaciones  \\\n",
       "1           chalet pareado en a zapateira, culleredo    1100             4   \n",
       "2   chalet pareado en elviña - a zapateira, a coruña    1100             4   \n",
       "4  piso en calle de fernando iii o santo, 9, ensa...    1000             4   \n",
       "5  piso en calle manuel jesús méndez búa, s/n, ca...     450             2   \n",
       "6                        piso en os mallos, a coruña     800             4   \n",
       "\n",
       "   metros  total_inmuebles                   ciudad  \n",
       "1     243             1751                culleredo  \n",
       "2     243             1751                 a coruña  \n",
       "4     100             1751   santiago de compostela  \n",
       "5      76             1751                   carral  \n",
       "6     100             1751                 a coruña  "
      ]
     },
     "execution_count": 535,
     "metadata": {},
     "output_type": "execute_result"
    }
   ],
   "source": [
    "rent2.head()"
   ]
  },
  {
   "cell_type": "code",
   "execution_count": 536,
   "metadata": {},
   "outputs": [
    {
     "data": {
      "text/html": [
       "<div>\n",
       "<style scoped>\n",
       "    .dataframe tbody tr th:only-of-type {\n",
       "        vertical-align: middle;\n",
       "    }\n",
       "\n",
       "    .dataframe tbody tr th {\n",
       "        vertical-align: top;\n",
       "    }\n",
       "\n",
       "    .dataframe thead th {\n",
       "        text-align: right;\n",
       "    }\n",
       "</style>\n",
       "<table border=\"1\" class=\"dataframe\">\n",
       "  <thead>\n",
       "    <tr style=\"text-align: right;\">\n",
       "      <th></th>\n",
       "      <th>precio</th>\n",
       "      <th>habitaciones</th>\n",
       "      <th>metros</th>\n",
       "      <th>total_inmuebles</th>\n",
       "    </tr>\n",
       "  </thead>\n",
       "  <tbody>\n",
       "    <tr>\n",
       "      <th>precio</th>\n",
       "      <td>1.000000</td>\n",
       "      <td>0.306860</td>\n",
       "      <td>0.570805</td>\n",
       "      <td>0.140171</td>\n",
       "    </tr>\n",
       "    <tr>\n",
       "      <th>habitaciones</th>\n",
       "      <td>0.306860</td>\n",
       "      <td>1.000000</td>\n",
       "      <td>0.641686</td>\n",
       "      <td>-0.152863</td>\n",
       "    </tr>\n",
       "    <tr>\n",
       "      <th>metros</th>\n",
       "      <td>0.570805</td>\n",
       "      <td>0.641686</td>\n",
       "      <td>1.000000</td>\n",
       "      <td>-0.037270</td>\n",
       "    </tr>\n",
       "    <tr>\n",
       "      <th>total_inmuebles</th>\n",
       "      <td>0.140171</td>\n",
       "      <td>-0.152863</td>\n",
       "      <td>-0.037270</td>\n",
       "      <td>1.000000</td>\n",
       "    </tr>\n",
       "  </tbody>\n",
       "</table>\n",
       "</div>"
      ],
      "text/plain": [
       "                   precio  habitaciones    metros  total_inmuebles\n",
       "precio           1.000000      0.306860  0.570805         0.140171\n",
       "habitaciones     0.306860      1.000000  0.641686        -0.152863\n",
       "metros           0.570805      0.641686  1.000000        -0.037270\n",
       "total_inmuebles  0.140171     -0.152863 -0.037270         1.000000"
      ]
     },
     "execution_count": 536,
     "metadata": {},
     "output_type": "execute_result"
    }
   ],
   "source": [
    "rent2[['precio','habitaciones','metros','total_inmuebles']].corr()"
   ]
  },
  {
   "cell_type": "code",
   "execution_count": 537,
   "metadata": {},
   "outputs": [
    {
     "data": {
      "text/html": [
       "<div>\n",
       "<style scoped>\n",
       "    .dataframe tbody tr th:only-of-type {\n",
       "        vertical-align: middle;\n",
       "    }\n",
       "\n",
       "    .dataframe tbody tr th {\n",
       "        vertical-align: top;\n",
       "    }\n",
       "\n",
       "    .dataframe thead th {\n",
       "        text-align: right;\n",
       "    }\n",
       "</style>\n",
       "<table border=\"1\" class=\"dataframe\">\n",
       "  <thead>\n",
       "    <tr style=\"text-align: right;\">\n",
       "      <th></th>\n",
       "      <th>indice</th>\n",
       "      <th>precio</th>\n",
       "      <th>habitaciones</th>\n",
       "      <th>metros</th>\n",
       "      <th>total_inmuebles</th>\n",
       "    </tr>\n",
       "  </thead>\n",
       "  <tbody>\n",
       "    <tr>\n",
       "      <th>count</th>\n",
       "      <td>75627.000000</td>\n",
       "      <td>75627.000000</td>\n",
       "      <td>75627.000000</td>\n",
       "      <td>75627.000000</td>\n",
       "      <td>75627.000000</td>\n",
       "    </tr>\n",
       "    <tr>\n",
       "      <th>mean</th>\n",
       "      <td>39676.276237</td>\n",
       "      <td>1259.066418</td>\n",
       "      <td>2.473085</td>\n",
       "      <td>105.211512</td>\n",
       "      <td>6139.285626</td>\n",
       "    </tr>\n",
       "    <tr>\n",
       "      <th>std</th>\n",
       "      <td>23253.060277</td>\n",
       "      <td>1480.359689</td>\n",
       "      <td>1.122540</td>\n",
       "      <td>79.226419</td>\n",
       "      <td>6378.043325</td>\n",
       "    </tr>\n",
       "    <tr>\n",
       "      <th>min</th>\n",
       "      <td>1.000000</td>\n",
       "      <td>100.000000</td>\n",
       "      <td>1.000000</td>\n",
       "      <td>5.000000</td>\n",
       "      <td>16.000000</td>\n",
       "    </tr>\n",
       "    <tr>\n",
       "      <th>25%</th>\n",
       "      <td>19427.500000</td>\n",
       "      <td>650.000000</td>\n",
       "      <td>2.000000</td>\n",
       "      <td>65.000000</td>\n",
       "      <td>1345.000000</td>\n",
       "    </tr>\n",
       "    <tr>\n",
       "      <th>50%</th>\n",
       "      <td>39118.000000</td>\n",
       "      <td>900.000000</td>\n",
       "      <td>2.000000</td>\n",
       "      <td>84.000000</td>\n",
       "      <td>3115.000000</td>\n",
       "    </tr>\n",
       "    <tr>\n",
       "      <th>75%</th>\n",
       "      <td>60140.500000</td>\n",
       "      <td>1400.000000</td>\n",
       "      <td>3.000000</td>\n",
       "      <td>114.000000</td>\n",
       "      <td>9455.000000</td>\n",
       "    </tr>\n",
       "    <tr>\n",
       "      <th>max</th>\n",
       "      <td>79748.000000</td>\n",
       "      <td>100000.000000</td>\n",
       "      <td>32.000000</td>\n",
       "      <td>997.000000</td>\n",
       "      <td>17589.000000</td>\n",
       "    </tr>\n",
       "  </tbody>\n",
       "</table>\n",
       "</div>"
      ],
      "text/plain": [
       "             indice         precio  habitaciones        metros  \\\n",
       "count  75627.000000   75627.000000  75627.000000  75627.000000   \n",
       "mean   39676.276237    1259.066418      2.473085    105.211512   \n",
       "std    23253.060277    1480.359689      1.122540     79.226419   \n",
       "min        1.000000     100.000000      1.000000      5.000000   \n",
       "25%    19427.500000     650.000000      2.000000     65.000000   \n",
       "50%    39118.000000     900.000000      2.000000     84.000000   \n",
       "75%    60140.500000    1400.000000      3.000000    114.000000   \n",
       "max    79748.000000  100000.000000     32.000000    997.000000   \n",
       "\n",
       "       total_inmuebles  \n",
       "count     75627.000000  \n",
       "mean       6139.285626  \n",
       "std        6378.043325  \n",
       "min          16.000000  \n",
       "25%        1345.000000  \n",
       "50%        3115.000000  \n",
       "75%        9455.000000  \n",
       "max       17589.000000  "
      ]
     },
     "execution_count": 537,
     "metadata": {},
     "output_type": "execute_result"
    }
   ],
   "source": [
    "rent2.describe()"
   ]
  },
  {
   "cell_type": "code",
   "execution_count": 538,
   "metadata": {},
   "outputs": [],
   "source": [
    "rent2.to_csv('Spanish_renting.csv')"
   ]
  },
  {
   "cell_type": "code",
   "execution_count": 539,
   "metadata": {},
   "outputs": [],
   "source": [
    "from sqlalchemy import create_engine\n",
    "user = 'root'\n",
    "host = '127.0.0.1'\n",
    "password = 'ironjaime'\n",
    "port = 3306\n",
    "database = 'project_3_Spain'\n"
   ]
  },
  {
   "cell_type": "code",
   "execution_count": 540,
   "metadata": {},
   "outputs": [],
   "source": [
    "my_conn = create_engine(\"mysql+pymysql://{0}:{1}@{2}:{3}/{4}\".format(\n",
    "            user, password, host, port, database\n",
    "        ))"
   ]
  },
  {
   "cell_type": "code",
   "execution_count": 542,
   "metadata": {},
   "outputs": [],
   "source": [
    "db_conn = my_conn.connect()"
   ]
  },
  {
   "cell_type": "code",
   "execution_count": 543,
   "metadata": {},
   "outputs": [
    {
     "name": "stdout",
     "output_type": "stream",
     "text": [
      "Table spanishrenting created successfully.\n"
     ]
    }
   ],
   "source": [
    "try:\n",
    "    frame = rent2.to_sql(\"spanishrenting\", db_conn, if_exists='fail')\n",
    "except ValueError as vx:\n",
    "    print(vx)\n",
    "except Exception as ex:\n",
    "    print(ex)\n",
    "else:\n",
    "    print(\"Table %s created successfully.\"%\"spanishrenting\");\n",
    "finally:\n",
    "    db_conn.close()"
   ]
  },
  {
   "cell_type": "code",
   "execution_count": 545,
   "metadata": {},
   "outputs": [
    {
     "name": "stdout",
     "output_type": "stream",
     "text": [
      "100000\n"
     ]
    }
   ],
   "source": [
    "print(rent2['precio'].max())"
   ]
  },
  {
   "cell_type": "code",
   "execution_count": null,
   "metadata": {},
   "outputs": [],
   "source": []
  }
 ],
 "metadata": {
  "kernelspec": {
   "display_name": "Python 3.9.12 ('base')",
   "language": "python",
   "name": "python3"
  },
  "language_info": {
   "codemirror_mode": {
    "name": "ipython",
    "version": 3
   },
   "file_extension": ".py",
   "mimetype": "text/x-python",
   "name": "python",
   "nbconvert_exporter": "python",
   "pygments_lexer": "ipython3",
   "version": "3.9.12"
  },
  "orig_nbformat": 4,
  "vscode": {
   "interpreter": {
    "hash": "a3f3c9539b2b0d529c07b7548750098ae30aba30b940b3b3dd0f70005c5624b6"
   }
  }
 },
 "nbformat": 4,
 "nbformat_minor": 2
}
